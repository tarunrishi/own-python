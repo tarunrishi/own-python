{
 "cells": [
  {
   "cell_type": "markdown",
   "metadata": {},
   "source": [
    "Project Euler - Problem 5\n",
    "https://projecteuler.net/problem=5\n",
    "\n",
    "2520 is the smallest number that can be divided by each of the numbers from 1 to 10 without any remainder.\n",
    "What is the smallest positive number that is evenly divisible with no remainder by all of the numbers from 1 to 20?"
   ]
  },
  {
   "cell_type": "code",
   "execution_count": 21,
   "metadata": {},
   "outputs": [],
   "source": [
    "from codetiming import Timer"
   ]
  },
  {
   "cell_type": "code",
   "execution_count": 22,
   "metadata": {},
   "outputs": [],
   "source": [
    "def smallestNumberWithoutRemainder(r):\n",
    "    # initial approach - brute force checking each potential number against each number in the range\n",
    "    n = r\n",
    "    f = False\n",
    "\n",
    "    while True:\n",
    "        for i in range(2, r + 1):\n",
    "            f = True\n",
    "            if n % i != 0:\n",
    "                n += r\n",
    "                f = False\n",
    "                break\n",
    "        if f == True:\n",
    "            break\n",
    "        \n",
    "    return n"
   ]
  },
  {
   "cell_type": "code",
   "execution_count": 23,
   "metadata": {},
   "outputs": [],
   "source": [
    "def smallestNumberWithoutRemainder2():\n",
    "    # optimising by checking for remainders using 2 to 20 nders in a single statement and incrementing by 20 each loop\n",
    "    i = 20\n",
    "    while (i %  2 != 0 or i %  3 != 0 or i %  4 != 0 or i %  5 != 0 or\n",
    "         i %  6 != 0 or i %  7 != 0 or i %  8 != 0 or i %  9 != 0 or\n",
    "         i % 10 != 0 or i % 11 != 0 or i % 12 != 0 or i % 13 != 0 or\n",
    "         i % 14 != 0 or i % 15 != 0 or i % 16 != 0 or i % 17 != 0 or\n",
    "         i % 18 != 0 or i % 19 != 0 or i % 20 != 0):\n",
    "        i += 20\n",
    "    return i"
   ]
  },
  {
   "cell_type": "code",
   "execution_count": 24,
   "metadata": {},
   "outputs": [],
   "source": [
    "def smallestNumberWithoutRemainder3(r):\n",
    "    # significant optimisation\n",
    "    n = 1\n",
    "    for i in range (2, r + 1):\n",
    "        if n % i != 0: # If the number is not divisible by i\n",
    "            for j in range (2, r + 1):\n",
    "                if (n * j) % i == 0: # Find the smallest number divisible by i\n",
    "                    n *= j\n",
    "                    break\n",
    "    return n"
   ]
  },
  {
   "cell_type": "code",
   "execution_count": 25,
   "metadata": {},
   "outputs": [
    {
     "name": "stdout",
     "output_type": "stream",
     "text": [
      "smalllest number without a remainder: 232792560\n",
      "Time taken: 2671.7221 ms\n",
      "smalllest number without a remainder: 232792560\n",
      "Time taken: 1250.5664 ms\n",
      "smalllest number without a remainder: 232792560\n",
      "Time taken: 0.0174 ms\n"
     ]
    }
   ],
   "source": [
    "with Timer(name=\"Time taken\", text=\"{name}: {milliseconds:.4f} ms\"):\n",
    "    print (f\"smalllest number without a remainder: {smallestNumberWithoutRemainder(20)}\")\n",
    "\n",
    "with Timer(name=\"Time taken\", text=\"{name}: {milliseconds:.4f} ms\"):\n",
    "    print (f\"smalllest number without a remainder: {smallestNumberWithoutRemainder2()}\")\n",
    "\n",
    "with Timer(name=\"Time taken\", text=\"{name}: {milliseconds:.4f} ms\"):\n",
    "    print (f\"smalllest number without a remainder: {smallestNumberWithoutRemainder3(20)}\")"
   ]
  }
 ],
 "metadata": {
  "kernelspec": {
   "display_name": "showcase_python",
   "language": "python",
   "name": "python3"
  },
  "language_info": {
   "codemirror_mode": {
    "name": "ipython",
    "version": 3
   },
   "file_extension": ".py",
   "mimetype": "text/x-python",
   "name": "python",
   "nbconvert_exporter": "python",
   "pygments_lexer": "ipython3",
   "version": "3.13.0"
  }
 },
 "nbformat": 4,
 "nbformat_minor": 2
}
