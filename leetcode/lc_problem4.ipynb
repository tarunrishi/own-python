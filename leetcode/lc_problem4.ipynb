{
 "cells": [
  {
   "cell_type": "markdown",
   "metadata": {},
   "source": [
    "Leetcode - Problem 4 https://leetcode.com/problems/median-of-two-sorted-arrays/description/\n",
    "\n",
    "Given two sorted arrays nums1 and nums2 of size m and n respectively, return the median of the two sorted arrays.\n",
    "\n",
    "The overall run time complexity should be O(log (m+n)).\n",
    "\n",
    "Constraints:\n",
    "\n",
    "nums1.length == m\n",
    "nums2.length == n\n",
    "0 <= m <= 1000\n",
    "0 <= n <= 1000\n",
    "1 <= m + n <= 2000\n",
    "-10^6 <= nums1[i], nums2[i] <= 10^6"
   ]
  },
  {
   "cell_type": "code",
   "execution_count": 12,
   "metadata": {},
   "outputs": [],
   "source": [
    "def findMedianSortedArrays(nums1, nums2):\n",
    "\n",
    "    if len(nums1) > len(nums2): # ensure nums1 is the smaller array\n",
    "        nums1, nums2 = nums2, nums1\n",
    "\n",
    "    m, n = len(nums1), len(nums2) # meets the first constraint\n",
    "    mid = (m + n) // 2 # floor division : round down\n",
    "\n",
    "    # perform a binary search on  the smaller array\n",
    "    left, right = 0, m\n",
    "    while left <= right:\n",
    "        i = (left + right) // 2\n",
    "        j = mid - i\n",
    "\n",
    "        # set partition boundaries\n",
    "        nums1_left = nums1[i - 1] if i > 0 else float('-inf')\n",
    "        nums1_right = nums1[i] if i < m else float('inf')\n",
    "        nums2_left = nums2[j - 1] if j > 0 else float('-inf')\n",
    "        nums2_right = nums2[j] if j < n else float('inf')\n",
    "\n",
    "        if nums1_left <= nums2_right and nums2_left <= nums1_right:\n",
    "            # if total length is odd, return the smaller value on the right\n",
    "            if (m + n) % 2 == 1:\n",
    "                return min(nums1_right, nums2_right)\n",
    "            # if total length is even, return the average of the middle two values\n",
    "            return (max(nums1_left, nums2_left) + min(nums1_right, nums2_right)) / 2\n",
    "        elif nums1_left > nums2_right:\n",
    "            right = i - 1\n",
    "        else:\n",
    "            left = i + 1\n",
    "\n",
    "    raise ValueError(\"Input arrays are not sorted or invalid.\")"
   ]
  },
  {
   "cell_type": "code",
   "execution_count": 14,
   "metadata": {},
   "outputs": [
    {
     "name": "stdout",
     "output_type": "stream",
     "text": [
      "median: 2\n",
      "median: 4.5\n",
      "median: 2.5\n",
      "median: 1\n"
     ]
    }
   ],
   "source": [
    "nums1 = [1,3]\n",
    "nums2 = [2]\n",
    "median = findMedianSortedArrays(nums1, nums2)\n",
    "print(f\"median: {median}\") \n",
    "\n",
    "nums1 = [1,3,5,7,8]\n",
    "nums2 = [2,3,4,6,9]\n",
    "median = findMedianSortedArrays(nums1, nums2)\n",
    "print(f\"median: {median}\") \n",
    "\n",
    "\n",
    "nums1 = [1, 2]\n",
    "nums2 = [3, 4]\n",
    "median = findMedianSortedArrays(nums1, nums2)\n",
    "print(f\"median: {median}\") \n",
    "\n",
    "nums1 = []\n",
    "nums2 = [1]\n",
    "median = findMedianSortedArrays(nums1, nums2)\n",
    "print(f\"median: {median}\") \n"
   ]
  }
 ],
 "metadata": {
  "kernelspec": {
   "display_name": "DEMO-CODING-PYTHON",
   "language": "python",
   "name": "python3"
  },
  "language_info": {
   "codemirror_mode": {
    "name": "ipython",
    "version": 3
   },
   "file_extension": ".py",
   "mimetype": "text/x-python",
   "name": "python",
   "nbconvert_exporter": "python",
   "pygments_lexer": "ipython3",
   "version": "3.11.10"
  }
 },
 "nbformat": 4,
 "nbformat_minor": 2
}
