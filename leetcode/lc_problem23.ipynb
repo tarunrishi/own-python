{
 "cells": [
  {
   "cell_type": "markdown",
   "metadata": {},
   "source": [
    "Leetcode - Problem 23 - https://leetcode.com/problems/merge-k-sorted-lists/description/\n",
    "\n",
    "You are given an array of k linked-lists lists, each linked-list is sorted in ascending order.\n",
    "\n",
    "Merge all the linked-lists into one sorted linked-list and return it.\n",
    "\n",
    "Example 1:\n",
    "\n",
    "Input: lists = [[1,4,5],[1,3,4],[2,6]]\n",
    "Output: [1,1,2,3,4,4,5,6]\n",
    "Explanation: The linked-lists are:\n",
    "[\n",
    "  1->4->5,\n",
    "  1->3->4,\n",
    "  2->6\n",
    "]\n",
    "merging them into one sorted list:\n",
    "1->1->2->3->4->4->5->6\n",
    "\n",
    "Constraints:\n",
    "k == lists.length\n",
    "0 <= k <= 10^4\n",
    "0 <= lists[i].length <= 500\n",
    "-10^ <= lists[i][j] <= 10^4\n",
    "lists[i] is sorted in ascending order.\n",
    "The sum of lists[i].length will not exceed 10^4"
   ]
  },
  {
   "cell_type": "code",
   "execution_count": 1,
   "metadata": {},
   "outputs": [],
   "source": [
    "from heapq import heappush, heappop\n",
    "from typing import List, Optional\n",
    "\n",
    "class ListNode:\n",
    "    def __init__(self, val=0, next=None):\n",
    "        self.val = val\n",
    "        self.next = next\n",
    "\n",
    "    # traverse linked list\n",
    "    def __repr__(self):\n",
    "        result = []\n",
    "        current = self\n",
    "        while current:\n",
    "            result.append(current.val)\n",
    "            current = current.next\n",
    "        return \"->\".join(map(str, result))"
   ]
  },
  {
   "cell_type": "code",
   "execution_count": 2,
   "metadata": {},
   "outputs": [],
   "source": [
    "def mergeKLists(lists: List[Optional[ListNode]]) -> Optional[ListNode]:\n",
    "\n",
    "    # edge case\n",
    "    if not lists: return None\n",
    "\n",
    "    min_heap = []\n",
    "    \n",
    "    # init the heap with the head of each non-empty list\n",
    "    for i, j in enumerate(lists):\n",
    "        if j:  # Only add non-empty lists\n",
    "            heappush(min_heap, (j.val, i, j))\n",
    "    \n",
    "    # set start empty node in merged list\n",
    "    start = ListNode()\n",
    "    current = start\n",
    "    \n",
    "    # process heap\n",
    "    while min_heap:\n",
    "        val, idx, node = heappop(min_heap)  # get the smallest element\n",
    "        current.next = node  \n",
    "        current = current.next  \n",
    "        if node.next:  # if the list has more elements, push onto the heap\n",
    "            heappush(min_heap, (node.next.val, idx, node.next))\n",
    "    \n",
    "    return start.next"
   ]
  },
  {
   "cell_type": "code",
   "execution_count": 3,
   "metadata": {},
   "outputs": [],
   "source": [
    "def create_linked_list(arr):\n",
    "    # helper Helper function to create a linked list from a list of values\n",
    "    dummy = ListNode()\n",
    "    current = dummy\n",
    "    for val in arr:\n",
    "        current.next = ListNode(val)\n",
    "        current = current.next\n",
    "    return dummy.next"
   ]
  },
  {
   "cell_type": "code",
   "execution_count": 5,
   "metadata": {},
   "outputs": [
    {
     "name": "stdout",
     "output_type": "stream",
     "text": [
      "1->1->2->3->4->4->5->6\n"
     ]
    }
   ],
   "source": [
    "lists = [\n",
    "    create_linked_list([1, 4, 5]),\n",
    "    create_linked_list([1, 3, 4]),\n",
    "    create_linked_list([2, 6])\n",
    "]\n",
    "\n",
    "merged_list = mergeKLists(lists)\n",
    "print(merged_list) "
   ]
  }
 ],
 "metadata": {
  "kernelspec": {
   "display_name": "DEMO-CODING-PYTHON",
   "language": "python",
   "name": "python3"
  },
  "language_info": {
   "codemirror_mode": {
    "name": "ipython",
    "version": 3
   },
   "file_extension": ".py",
   "mimetype": "text/x-python",
   "name": "python",
   "nbconvert_exporter": "python",
   "pygments_lexer": "ipython3",
   "version": "3.11.10"
  }
 },
 "nbformat": 4,
 "nbformat_minor": 2
}
