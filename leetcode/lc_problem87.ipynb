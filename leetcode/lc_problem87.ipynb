{
 "cells": [
  {
   "cell_type": "markdown",
   "metadata": {},
   "source": [
    "Leetcode - Problem 87 - https://leetcode.com/problems/scramble-string/description/\n",
    "\n",
    "We can scramble a string s to get a string t using the following algorithm:\n",
    "\n",
    "If the length of the string is 1, stop.\n",
    "If the length of the string is > 1, do the following:\n",
    "Split the string into two non-empty substrings at a random index, i.e., if the string is s, divide it to x and y where s = x + y.\n",
    "Randomly decide to swap the two substrings or to keep them in the same order. i.e., after this step, s may become s = x + y or s = y + x.\n",
    "Apply step 1 recursively on each of the two substrings x and y.\n",
    "Given two strings s1 and s2 of the same length, return true if s2 is a scrambled string of s1, otherwise, return false.\n",
    "\n",
    "Constraints:\n",
    "s1.length == s2.length\n",
    "1 <= s1.length <= 30\n",
    "s1 and s2 consist of lowercase English letters.\n",
    "\n",
    "Example 1:\n",
    "Input: s1 = \"great\", s2 = \"rgeat\"\n",
    "Output: true\n",
    "\n",
    "Example 2:\n",
    "Input: s1 = \"abcde\", s2 = \"caebd\"\n",
    "Output: false\n",
    "\n",
    "Example 3:\n",
    "Input: s1 = \"a\", s2 = \"a\"\n",
    "Output: true"
   ]
  },
  {
   "cell_type": "code",
   "execution_count": 4,
   "metadata": {},
   "outputs": [],
   "source": [
    "def isScrambled(s1: str, s2: str) -> bool:\n",
    "  \n",
    "    if len(s1) != len(s2): raise ValueError(\"s1 and s2 must have the same length.\")\n",
    "    if not (1 <= len(s1) <= 30): raise ValueError(\"String lengths must be between 1 and 30.\")\n",
    "    if not (s1.islower() and s2.islower()): raise ValueError(\"Strings must consist of lowercase English letters.\")\n",
    "\n",
    "    n = len(s1)\n",
    "    \n",
    "    # scrambled if identical \n",
    "    if s1 == s2: return True\n",
    "    \n",
    "    # if sorted and don't match can't be scrambled\n",
    "    if sorted(s1) != sorted(s2): return False\n",
    "\n",
    "    # create dp table: dp[k][i][j] means s1[i:i+k] and s2[j:j+k] are scrambled\n",
    "    dp = [[[False] * n for _ in range(n)] for _ in range(n + 1)]\n",
    "    \n",
    "    # substrings of length 1\n",
    "    for i in range(n):\n",
    "        for j in range(n):\n",
    "            dp[1][i][j] = s1[i] == s2[j]\n",
    "\n",
    "    # substrings of length 2 to n\n",
    "    for length in range(2, n + 1):  \n",
    "        for i in range(n - length + 1):  \n",
    "            for j in range(n - length + 1): \n",
    "                for split in range(1, length):  \n",
    "                    # check without swap and with swap\n",
    "                    if (dp[split][i][j] and dp[length - split][i + split][j + split]) or \\\n",
    "                       (dp[split][i][j + length - split] and dp[length - split][i + split][j]):\n",
    "                        dp[length][i][j] = True\n",
    "                        break\n",
    "\n",
    "    return dp[n][0][0]"
   ]
  },
  {
   "cell_type": "code",
   "execution_count": 5,
   "metadata": {},
   "outputs": [
    {
     "name": "stdout",
     "output_type": "stream",
     "text": [
      "True\n",
      "False\n",
      "True\n"
     ]
    }
   ],
   "source": [
    "# Example usage\n",
    "s1 = \"great\"\n",
    "s2 = \"rgeat\"\n",
    "print(isScramble(s1, s2))  # Output: True\n",
    "\n",
    "s1 = \"abcde\"\n",
    "s2 = \"caebd\"\n",
    "print(isScramble(s1, s2))  # Output: False\n",
    "\n",
    "s1 = \"a\"\n",
    "s2 = \"a\" \n",
    "print(isScramble(s1, s2))  # Output: true"
   ]
  }
 ],
 "metadata": {
  "kernelspec": {
   "display_name": "DEMO-CODING-PYTHON",
   "language": "python",
   "name": "python3"
  },
  "language_info": {
   "codemirror_mode": {
    "name": "ipython",
    "version": 3
   },
   "file_extension": ".py",
   "mimetype": "text/x-python",
   "name": "python",
   "nbconvert_exporter": "python",
   "pygments_lexer": "ipython3",
   "version": "3.11.10"
  }
 },
 "nbformat": 4,
 "nbformat_minor": 2
}
