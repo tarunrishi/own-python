{
 "cells": [
  {
   "cell_type": "markdown",
   "metadata": {},
   "source": [
    "Project Euler - Problem 4\n",
    "https://projecteuler.net/problem=4\n",
    "\n",
    "A palindromic number reads the same both ways. The largest palindrome made from the product of two 2-digit numbers is 9009 = 91 x 99.\n",
    "Find the largest palindrome made from the product of two 3-digit numbers."
   ]
  },
  {
   "cell_type": "code",
   "execution_count": 22,
   "metadata": {},
   "outputs": [],
   "source": [
    "from codetiming import Timer"
   ]
  },
  {
   "cell_type": "code",
   "execution_count": 23,
   "metadata": {},
   "outputs": [],
   "source": [
    "def isPalindrome(n):\n",
    "\n",
    "    s = str(n)\n",
    "    if len(s) != 6:\n",
    "        return False\n",
    "\n",
    "    # compare using \"\".join(reversed(s))\n",
    "    if s[0:3] == \"\".join(reversed(s[3:6])):   \n",
    "        return True\n",
    "    return False"
   ]
  },
  {
   "cell_type": "code",
   "execution_count": 24,
   "metadata": {},
   "outputs": [],
   "source": [
    "def isPalindrome2(n):\n",
    "\n",
    "    s = str(n)\n",
    "    if len(s) != 6:\n",
    "        return False\n",
    "\n",
    "    # significantly quicker to use s[::-1] to reverse splice than \"\".join(reversed(s))\n",
    "    if s[0:3] == s[3:6][::-1]:   \n",
    "        return True\n",
    "    return False"
   ]
  },
  {
   "cell_type": "code",
   "execution_count": 25,
   "metadata": {},
   "outputs": [],
   "source": [
    "def largestPalindrome():\n",
    "\n",
    "    maxPal = 0\n",
    "    curr = 0\n",
    "    n1 = 0\n",
    "    n2 = 0\n",
    "    loop  = 0\n",
    "\n",
    "    with Timer(name=\"Time taken\", text=\"{name}: {milliseconds:.4f} ms\"):\n",
    "        # brute force looping approach\n",
    "        for i in range(100, 1000):\n",
    "            for j in range(100, 1000):\n",
    "                curr = i * j\n",
    "                if isPalindrome(curr):\n",
    "                    if (curr > maxPal):\n",
    "                        maxPal = curr\n",
    "                        n1 = i\n",
    "                        n2 = j\n",
    "\n",
    "    print(\"Largest Palindrome is {} = {} x {}\".format(maxPal, n1, n2))"
   ]
  },
  {
   "cell_type": "code",
   "execution_count": 26,
   "metadata": {},
   "outputs": [],
   "source": [
    "def largestPalindrome2():\n",
    "    maxPal = 0\n",
    "    curr = 0\n",
    "    n1 = 0\n",
    "    n2 = 0\n",
    "\n",
    "    with Timer(name=\"Time taken\", text=\"{name}: {milliseconds:.4f} ms\"):\n",
    "        # optimise with isPalindrome2\n",
    "        for i in range(100, 1000):\n",
    "            for j in range(100, 1000):\n",
    "                curr = i * j\n",
    "                if isPalindrome2(curr):\n",
    "                    if (curr > maxPal):\n",
    "                        maxPal = curr\n",
    "                        n1 = i\n",
    "                        n2 = j\n",
    "    print(\"Largest Palindrome is {} = {} x {}\".format(maxPal, n1, n2))"
   ]
  },
  {
   "cell_type": "code",
   "execution_count": null,
   "metadata": {},
   "outputs": [],
   "source": [
    "def largestPalindrome3():\n",
    "\n",
    "    curr = 0\n",
    "    maxPal = 0\n",
    "    n1 = 0\n",
    "    n2 = 0\n",
    "    i = 0\n",
    "    j = 0\n",
    "\n",
    "    with Timer(name=\"Time taken\", text=\"{name}: {milliseconds:.4f} ms\"):\n",
    "        # optimise using list comprehension and isPalindrome2\n",
    "        # assign multiple variables and call more than one for loop in a list comprehension\n",
    "        [(maxPal := i * j, n1 := i, n2 := j) if isPalindrome2(i * j) else 1/1 for i in range(100, 1000) for j in range(100, 1000) if (i * j > maxPal) ]\n",
    "    \n",
    "    print(\"Largest Palindrome is {} = {} x {}\".format(maxPal, n1, n2))\n"
   ]
  },
  {
   "cell_type": "code",
   "execution_count": 28,
   "metadata": {},
   "outputs": [
    {
     "name": "stdout",
     "output_type": "stream",
     "text": [
      "Time taken: 314.6874 ms\n",
      "Largest Palindrome is 906609 = 913 x 993\n",
      "Time taken: 217.6032 ms\n",
      "Largest Palindrome is 906609 = 913 x 993\n",
      "Time taken: 44.5094 ms\n",
      "Largest Palindrome is 906609 = 913 x 993\n"
     ]
    }
   ],
   "source": [
    "largestPalindrome()\n",
    "\n",
    "largestPalindrome2()\n",
    "\n",
    "largestPalindrome3()"
   ]
  }
 ],
 "metadata": {
  "kernelspec": {
   "display_name": "showcase_python",
   "language": "python",
   "name": "python3"
  },
  "language_info": {
   "codemirror_mode": {
    "name": "ipython",
    "version": 3
   },
   "file_extension": ".py",
   "mimetype": "text/x-python",
   "name": "python",
   "nbconvert_exporter": "python",
   "pygments_lexer": "ipython3",
   "version": "3.13.0"
  }
 },
 "nbformat": 4,
 "nbformat_minor": 2
}
