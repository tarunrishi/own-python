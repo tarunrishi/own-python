{
 "cells": [
  {
   "cell_type": "markdown",
   "metadata": {},
   "source": [
    "Project Euler - Problem 6\n",
    "https://projecteuler.net/problem=6\n",
    "\n",
    "Sum square difference\n",
    "Problem 6\n",
    "The sum of the squares of the first ten natural numbers is,\n",
    "\n",
    "1*1 + 2*2 + ... + 10*10 = 385\n",
    "The square of the sum of the first ten natural numbers is,\n",
    "\n",
    "(1 + 2 + ... + 10)2 = 552 = 3025\n",
    "Hence the difference between the sum of the squares of the\n",
    "first ten natural numbers and the square of the sum is 3025 − 385 = 2640.\n",
    "\n",
    "Find the difference between the sum of the squares of the\n",
    "first one hundred natural numbers and the square of the sum."
   ]
  },
  {
   "cell_type": "code",
   "execution_count": 15,
   "metadata": {},
   "outputs": [],
   "source": [
    "from codetiming import Timer"
   ]
  },
  {
   "cell_type": "code",
   "execution_count": 16,
   "metadata": {},
   "outputs": [],
   "source": [
    "def diffSumSquares():\n",
    "    sum1 = 0\n",
    "    sum2 = 0\n",
    "\n",
    "    for i in range(1, 101):\n",
    "        sum1 += i * i\n",
    "        sum2 += i\n",
    "\n",
    "    sum2 = sum2 * sum2\n",
    "\n",
    "    print(\"Diff = \", sum2 - sum1)"
   ]
  },
  {
   "cell_type": "code",
   "execution_count": 17,
   "metadata": {},
   "outputs": [],
   "source": [
    "def diffSumSquares2():\n",
    "    sum1 = 0\n",
    "    sum2 = 0\n",
    "\n",
    "    # optimise performance with list comprehension\n",
    "    [(sum1 := sum1 + i * i, sum2 := sum2 + i) for i in range(1, 101)]\n",
    "\n",
    "    sum2 = sum2 * sum2\n",
    "\n",
    "    print(\"Diff = \", sum2 - sum1)\n"
   ]
  },
  {
   "cell_type": "code",
   "execution_count": 18,
   "metadata": {},
   "outputs": [
    {
     "name": "stdout",
     "output_type": "stream",
     "text": [
      "Diff =  25164150\n",
      "smalllest number without a remainder: None\n",
      "Time taken: 0.3071 ms\n",
      "Diff =  25164150\n",
      "smalllest number without a remainder: None\n",
      "Time taken: 0.0670 ms\n"
     ]
    }
   ],
   "source": [
    "with Timer(name=\"Time taken\", text=\"{name}: {milliseconds:.4f} ms\"):\n",
    "    print (f\"smalllest number without a remainder: {diffSumSquares()}\")\n",
    "\n",
    "with Timer(name=\"Time taken\", text=\"{name}: {milliseconds:.4f} ms\"):\n",
    "    print (f\"smalllest number without a remainder: {diffSumSquares2()}\")"
   ]
  }
 ],
 "metadata": {
  "kernelspec": {
   "display_name": "demo-coding-python",
   "language": "python",
   "name": "python3"
  },
  "language_info": {
   "codemirror_mode": {
    "name": "ipython",
    "version": 3
   },
   "file_extension": ".py",
   "mimetype": "text/x-python",
   "name": "python",
   "nbconvert_exporter": "python",
   "pygments_lexer": "ipython3",
   "version": "3.11.10"
  }
 },
 "nbformat": 4,
 "nbformat_minor": 2
}
