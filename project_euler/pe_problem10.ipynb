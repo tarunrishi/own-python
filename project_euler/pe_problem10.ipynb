{
 "cells": [
  {
   "cell_type": "markdown",
   "metadata": {},
   "source": [
    "Project Euler - Problem 10\n",
    "https://projecteuler.net/problem=10\n",
    "\n",
    "\n",
    "Summation of primes\n",
    "\n",
    "The sum of the primes below 10 is 2 + 3 + 5 + 7 = 17.\n",
    "\n",
    "Find the sum of all the primes below two million."
   ]
  },
  {
   "cell_type": "code",
   "execution_count": null,
   "metadata": {},
   "outputs": [
    {
     "name": "stdout",
     "output_type": "stream",
     "text": [
      "Sum =  142913828922\n",
      "sumrime: 142913828922\n",
      "Time taken: 7119.8239 ms\n"
     ]
    }
   ],
   "source": [
    "from codetiming import Timer\n",
    "import math\n",
    "\n",
    "def isPrime(n):\n",
    "    max = round(math.sqrt(n)) + 1\n",
    "    for i in range(2, max):\n",
    "        if n % i == 0:\n",
    "            return False\n",
    "    return True\n",
    "\n",
    "def sumPrime(limit):\n",
    "    total = 0\n",
    "    num = 2\n",
    "    prime = 0\n",
    "    while prime < limit and num < limit:\n",
    "        if isPrime(num):\n",
    "            prime = num\n",
    "            #print(\"Prime: \", prime)\n",
    "            total += prime\n",
    "\n",
    "        num += 1\n",
    "    return total\n",
    "\n",
    "with Timer(name=\"Time taken\", text=\"{name}: {milliseconds:.4f} ms\"):\n",
    "    print (f\"sumPrime: {sumPrime(2000000)}\")\n",
    "\n"
   ]
  },
  {
   "cell_type": "code",
   "execution_count": 39,
   "metadata": {},
   "outputs": [],
   "source": [
    "def isPrime2(n):\n",
    "    # Each number has at least one prime factor less than or equal to square root of itself\n",
    "    # This can be proven using the counter statement:\n",
    "    #   Consider n = a * b\n",
    "    #   If a > sqrt(n) and b > sqrt(n) then a * b > sqrt(n) * sqrt(n) = n which contradicts n = a * b\n",
    "    # Check whether n is multiple of any integer between 2 and sqrt(n).\n",
    "    # Time Complexity: O(sqrt(n)\n",
    "    if n <= 1: return False\n",
    "    if n <= 3: return True\n",
    "    if (n % 2 == 0 or n % 3 == 0) : return False\n",
    "\n",
    "    i = 5\n",
    "    while i * i <= n:\n",
    "        if n % i == 0 or n % (i + 2) == 0:\n",
    "            return False\n",
    "        i += 6\n",
    "\n",
    "    return True"
   ]
  },
  {
   "cell_type": "code",
   "execution_count": 41,
   "metadata": {},
   "outputs": [
    {
     "name": "stdout",
     "output_type": "stream",
     "text": [
      "subPrime2: 142913828922\n",
      "Time taken: 3227.8059 ms\n"
     ]
    }
   ],
   "source": [
    "def sumPrime2(limit):\n",
    "    total = 0\n",
    "    num = 2\n",
    "    prime = 0\n",
    "    while prime < limit and num < limit:\n",
    "        if isPrime2(num):\n",
    "            prime = num\n",
    "            total += prime\n",
    "\n",
    "        num += 1\n",
    "    return total\n",
    "\n",
    "with Timer(name=\"Time taken\", text=\"{name}: {milliseconds:.4f} ms\"):\n",
    "    print (f\"subPrime2: {sumPrime2(2000000)}\")"
   ]
  },
  {
   "cell_type": "code",
   "execution_count": null,
   "metadata": {},
   "outputs": [
    {
     "name": "stdout",
     "output_type": "stream",
     "text": [
      "subPrime: 142913828922\n",
      "Time taken: 180.0074 ms\n"
     ]
    }
   ],
   "source": [
    "def sumPrime3(limit):\n",
    "    # ** most optimised **\n",
    "    # use Sieve of Eratosthenes for efficient prime generation\n",
    "    sieve = [True] * limit\n",
    "    sieve[0] = sieve[1] = False  # 0 and 1 are not primes\n",
    "\n",
    "    for i in range(2, int(math.sqrt(limit)) + 1):\n",
    "        if sieve[i]:\n",
    "            for multiple in range(i * i, limit, i):\n",
    "                sieve[multiple] = False\n",
    "\n",
    "    # sum up all primes below the limit\n",
    "    total = sum(i for i, isPrime2 in enumerate(sieve) if isPrime2)\n",
    "    \n",
    "    return total\n",
    "\n",
    "\n",
    "with Timer(name=\"Time taken\", text=\"{name}: {milliseconds:.4f} ms\"):\n",
    "    print (f\"subPrime: {sumPrime3(2000000)}\")"
   ]
  }
 ],
 "metadata": {
  "kernelspec": {
   "display_name": "DEMO-CODING-PYTHON",
   "language": "python",
   "name": "python3"
  },
  "language_info": {
   "codemirror_mode": {
    "name": "ipython",
    "version": 3
   },
   "file_extension": ".py",
   "mimetype": "text/x-python",
   "name": "python",
   "nbconvert_exporter": "python",
   "pygments_lexer": "ipython3",
   "version": "3.11.10"
  }
 },
 "nbformat": 4,
 "nbformat_minor": 2
}
