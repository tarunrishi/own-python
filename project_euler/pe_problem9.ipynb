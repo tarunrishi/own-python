{
 "cells": [
  {
   "cell_type": "markdown",
   "metadata": {},
   "source": [
    "Project Euler - Problem 9\n",
    "https://projecteuler.net/problem=9\n",
    "\n",
    "A Pythagorean triplet is a set of three natural numbers, a < b < c, for which,\n",
    "a^2 + b^2 = c^2.\n",
    "For example, 3^2 + 4^2 = 9 + 16 = 25 = 5^2.\n",
    "There exists exactly one Pythagorean triplet for which a + b + c = 1000.Find the product abc.\n"
   ]
  },
  {
   "cell_type": "code",
   "execution_count": 3,
   "metadata": {},
   "outputs": [
    {
     "name": "stdout",
     "output_type": "stream",
     "text": [
      "200 + 375 + 425 = 1000\n",
      "200^2 375^2 = 425^2\n"
     ]
    }
   ],
   "source": [
    "def getTriplet(sum):\n",
    "\n",
    "    for i in range(1, sum):\n",
    "\n",
    "        for j in range(1, sum):\n",
    "\n",
    "            for k in range(1, sum):\n",
    "\n",
    "                if i + j + k == sum:\n",
    "                    if i*i + j*j == k * k:\n",
    "                        print(f\"{i} + {j} + {k} = {sum}\")\n",
    "                        print(f\"{i}^2 {j}^2 = {k}^2\")\n",
    "                        return\n",
    "\n",
    "getTriplet(1000)"
   ]
  }
 ],
 "metadata": {
  "kernelspec": {
   "display_name": "DEMO-CODING-PYTHON",
   "language": "python",
   "name": "python3"
  },
  "language_info": {
   "codemirror_mode": {
    "name": "ipython",
    "version": 3
   },
   "file_extension": ".py",
   "mimetype": "text/x-python",
   "name": "python",
   "nbconvert_exporter": "python",
   "pygments_lexer": "ipython3",
   "version": "3.11.10"
  }
 },
 "nbformat": 4,
 "nbformat_minor": 2
}
