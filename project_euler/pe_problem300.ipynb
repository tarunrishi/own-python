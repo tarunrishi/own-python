{
 "cells": [
  {
   "attachments": {
    "image.png": {
     "image/png": "[encoded data removed]"
    }
   },
   "cell_type": "markdown",
   "metadata": {},
   "source": [
    "Project Euler - Problem 200\n",
    "https://projecteuler.net/problem=300 \n",
    "\n",
    "In a very simplified form, we can consider proteins as strings consisting of hydrophobic (H) and polar (P) elements, e.g. HHPPHHHPHHPH.\n",
    "For this problem, the orientation of a protein is important; e.g. HPP is considered distinct from PPH. Thus, there are 2n distinct proteins consisting of n elements.\n",
    "When one encounters these strings in nature, they are always folded in such a way that the number of H-H contact points is as large as possible, since this is energetically advantageous.\n",
    "As a result, the H-elements tend to accumulate in the inner part, with the P-elements on the outside.\n",
    "Natural proteins are folded in three dimensions of course, but we will only consider protein folding in two dimensions.\n",
    "The figure below shows two possible ways that our example protein could be folded (H-H contact points are shown with red dots).\n",
    "\n",
    " ![image.png](attachment:image.png)\n",
    "\n",
    "The folding on the left has only six H-H contact points, thus it would never occur naturally.\n",
    "On the other hand, the folding on the right has nine H-H contact points, which is optimal for this string.\n",
    "Assuming that H and P elements are equally likely to occur in any position along the string, the average number of H-H contact points in an optimal folding of a random protein string of length 8 turns out to be 850/2^8=3.3203125.\n",
    "What is the average number of H-H contact points in an optimal folding of a random protein string of length 15?\n",
    "Give your answer using as many decimal places as necessary for an exact result.\n"
   ]
  },
  {
   "cell_type": "code",
   "execution_count": 48,
   "metadata": {},
   "outputs": [],
   "source": [
    "def contains_duplicate(l):\n",
    "    for i in range(len(l)):\n",
    "        if l[i] in l[:i]:\n",
    "            return True\n",
    "    return False"
   ]
  },
  {
   "cell_type": "code",
   "execution_count": 49,
   "metadata": {},
   "outputs": [],
   "source": [
    "def add_to_list(l):\n",
    "    ls = []\n",
    "    a = l[-1]\n",
    "    for i in range(4):\n",
    "        if i == 0:\n",
    "            candidate = l + [(a[0], a[1]+1)]\n",
    "            # ls.append(L+[(a[0],a[1]+1)])\n",
    "            if contains_duplicate(candidate) == False:\n",
    "                ls.append(candidate)\n",
    "            if len(l) == 1:\n",
    "                return ls\n",
    "        if i == 1:\n",
    "            candidate = l+[(a[0],a[1]-1)]\n",
    "            # ls.append(L+[(a[0],a[1]-1)])\n",
    "            if contains_duplicate(candidate) == False:\n",
    "                ls.append(candidate)\n",
    "        if i == 2:\n",
    "            candidate = l + [(a[0]+1,a[1])]\n",
    "            # ls.append(L+[(a[0]+1,a[1])])\n",
    "            if contains_duplicate(candidate) == False:\n",
    "                ls.append(candidate)\n",
    "        if i == 3:\n",
    "            candidate = l+[(a[0]-1,a[1])]\n",
    "            # ls.append(L+[(a[0]-1,a[1])])\n",
    "            if contains_duplicate(candidate) == False:\n",
    "                ls.append(candidate)\n",
    "    return ls\n",
    "\n",
    "def dist(a,b):\n",
    "    return ((a[0]-b[0])**2+(a[1]-b[1])**2)**.5\n",
    "\n",
    "def elem_lists(n):\n",
    "    if n == 1:\n",
    "        return [['H'],['P']]\n",
    "    p = elem_lists(n-1)\n",
    "    ph = [pe + ['H'] for pe in p] \n",
    "    pp = [pe + ['P'] for pe in p]\n",
    "    return pp + ph\n",
    "\n",
    "def calc_distances(L):\n",
    "    o = []\n",
    "    for i in range(len(L)):\n",
    "        for j in range(i,len(L)):\n",
    "            if i == j:\n",
    "                continue\n",
    "            d = dist(L[i],L[j])\n",
    "            if d == 1:\n",
    "                o.append((i,j))\n",
    "    return o\n",
    "\n",
    "def elem_contact_points(o,le):\n",
    "    n = 0\n",
    "    for i in range(len(o)):\n",
    "        if le[o[i][0]] != 'H':\n",
    "            continue\n",
    "        if le[o[i][0]] == le[o[i][1]]:\n",
    "            n += 1\n",
    "    return n"
   ]
  },
  {
   "cell_type": "code",
   "execution_count": 50,
   "metadata": {},
   "outputs": [
    {
     "data": {
      "text/plain": [
       "\"\\nL = [(0,0)]\\nLs = add_to_list(L)\\nprint(Ls)\\ndef add_to_list2(Ls):\\n    Ls2 = []\\n    for i in range(len(Ls)):\\n        Ls2 += add_to_list(Ls[i])\\n    return Ls2\\n\\nlist4 = add_to_list2(add_to_list2(Ls))\\n\\nbad_lists=[]\\nfor i in range(len(list4)):\\n    if contains_duplicate(list4[i]):\\n        bad_lists.append(i)\\n        #print(i,list4[i])\\n\\nlist4 = [list4[i] for i in range(len(list4)) if i not in bad_lists]\\nprint(list4)\\n#print(calc_distances(list4[0]))\\nfor l in list4:\\n    #print(len(calc_distances(l)))\\n    print(elem_contact_points(calc_distances(l),['H','P','H','H']))\\nprint(elem_lists(3))\\n\""
      ]
     },
     "execution_count": 50,
     "metadata": {},
     "output_type": "execute_result"
    }
   ],
   "source": [
    "\"\"\"\n",
    "L = [(0,0)]\n",
    "Ls = add_to_list(L)\n",
    "print(Ls)\n",
    "def add_to_list2(Ls):\n",
    "    Ls2 = []\n",
    "    for i in range(len(Ls)):\n",
    "        Ls2 += add_to_list(Ls[i])\n",
    "    return Ls2\n",
    "\n",
    "list4 = add_to_list2(add_to_list2(Ls))\n",
    "\n",
    "bad_lists=[]\n",
    "for i in range(len(list4)):\n",
    "    if contains_duplicate(list4[i]):\n",
    "        bad_lists.append(i)\n",
    "        #print(i,list4[i])\n",
    "\n",
    "list4 = [list4[i] for i in range(len(list4)) if i not in bad_lists]\n",
    "print(list4)\n",
    "#print(calc_distances(list4[0]))\n",
    "for l in list4:\n",
    "    #print(len(calc_distances(l)))\n",
    "    print(elem_contact_points(calc_distances(l),['H','P','H','H']))\n",
    "print(elem_lists(3))\n",
    "\"\"\""
   ]
  },
  {
   "cell_type": "code",
   "execution_count": 51,
   "metadata": {},
   "outputs": [],
   "source": [
    "def good_lists(n):\n",
    "    ls = add_to_list(L)\n",
    "\n",
    "    for i in range(n-2):\n",
    "        ls = add_to_list2(ls)\n",
    "\n",
    "    bad_lists=[]\n",
    "    for i in range(len(ls)):\n",
    "        if contains_duplicate(ls[i]):\n",
    "            bad_lists.append(i)\n",
    "            #print(i,list4[i])\n",
    "\n",
    "    ls = [ls[i] for i in range(len(ls)) if i not in bad_lists]\n",
    "\n",
    "    return ls\n",
    "\n",
    "def optimal_sol(n):\n",
    "    el = elem_lists(n)\n",
    "    gl = good_lists(n)\n",
    "\n",
    "    max_sols = []\n",
    "    for e in el:\n",
    "        max_sol = 0\n",
    "        for l in gl:\n",
    "            sol = elem_contact_points(calc_distances(l),e)\n",
    "            if sol > max_sol:\n",
    "                max_sol = sol\n",
    "        max_sols.append(max_sol)\n",
    "    return max_sols"
   ]
  },
  {
   "cell_type": "code",
   "execution_count": null,
   "metadata": {},
   "outputs": [
    {
     "name": "stdout",
     "output_type": "stream",
     "text": [
      "2 1 0.25\n",
      "3 4 0.5\n",
      "4 16 1.0\n",
      "5 46 1.4375\n",
      "6 133 2.078125\n",
      "7 335 2.6171875\n",
      "8 850 3.3203125\n",
      "9 1997 3.900390625\n",
      "10 4733 4.6220703125\n",
      "11 10748 5.248046875\n",
      "12 24555 5.994873046875\n",
      "13 54372 6.63720703125\n"
     ]
    }
   ],
   "source": [
    "N=8\n",
    "for N in range(2,16):\n",
    "    sos = sum(optimal_sol(N))\n",
    "    print(N,sos,sos/(2**N))"
   ]
  }
 ],
 "metadata": {
  "kernelspec": {
   "display_name": "DEMO-CODING-PYTHON",
   "language": "python",
   "name": "python3"
  },
  "language_info": {
   "codemirror_mode": {
    "name": "ipython",
    "version": 3
   },
   "file_extension": ".py",
   "mimetype": "text/x-python",
   "name": "python",
   "nbconvert_exporter": "python",
   "pygments_lexer": "ipython3",
   "version": "3.11.10"
  }
 },
 "nbformat": 4,
 "nbformat_minor": 2
}
