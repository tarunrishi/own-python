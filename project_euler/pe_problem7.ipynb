{
 "cells": [
  {
   "cell_type": "markdown",
   "metadata": {},
   "source": [
    "\n",
    "Project Euler - Problem 7\n",
    "https://projecteuler.net/problem=7\n",
    "\n",
    "By listing the first six prime numbers: 2, 3, 5, 7, 11, and 13, we can see that the 6th prime is 13.\n",
    "What is the 10\\,001st prime number?\n"
   ]
  },
  {
   "cell_type": "code",
   "execution_count": 693,
   "metadata": {},
   "outputs": [],
   "source": [
    "import math\n",
    "from codetiming import Timer"
   ]
  },
  {
   "cell_type": "code",
   "execution_count": 694,
   "metadata": {},
   "outputs": [],
   "source": [
    "c = 0\n",
    "def isPrime(n):\n",
    "    global c\n",
    "    max = round(n/2)\n",
    "    for i in range(2, max + 1):\n",
    "        c += 1\n",
    "        if n % i == 0:\n",
    "            return False\n",
    "    return True\n"
   ]
  },
  {
   "cell_type": "code",
   "execution_count": 695,
   "metadata": {},
   "outputs": [],
   "source": [
    "def isPrime2(n):\n",
    "    if n <= 1: return False\n",
    "    if n <= 3: return True\n",
    "    if (n % 2 == 0 or n % 3 == 0) : return False\n",
    "\n",
    "    i = 5\n",
    "    while i * i <= n:\n",
    "        if n % i == 0 or n % (i + 2) == 0:\n",
    "            return False\n",
    "        i += 6\n",
    "\n",
    "    return True"
   ]
  },
  {
   "cell_type": "code",
   "execution_count": 696,
   "metadata": {},
   "outputs": [],
   "source": [
    "def isPrime3(n):\n",
    "    if n <= 1: return False\n",
    "    if n <= 3: return True\n",
    "    if (n % 2 == 0 or n % 3 == 0) : return False\n",
    "\n",
    "    for i in range(5, n, 6):\n",
    "        if i * i > n: \n",
    "            break\n",
    "        if n % i == 0 or n % (i + 2) == 0: \n",
    "            return False\n",
    "    return True"
   ]
  },
  {
   "cell_type": "code",
   "execution_count": 697,
   "metadata": {},
   "outputs": [],
   "source": [
    "def getPrime(nth):\n",
    "\n",
    "    primeCount = 0\n",
    "    primeNum = 1\n",
    "\n",
    "    while primeCount < nth:\n",
    "        primeNum += 1\n",
    "        if isPrime(primeNum):\n",
    "\n",
    "            primeCount += 1\n",
    "\n",
    "    return primeNum"
   ]
  },
  {
   "cell_type": "code",
   "execution_count": 698,
   "metadata": {},
   "outputs": [],
   "source": [
    "def getPrime2(nth):\n",
    "\n",
    "    primeCount = 0\n",
    "    primeNum = 1\n",
    "\n",
    "    while primeCount < nth:\n",
    "        primeNum += 1\n",
    "        if isPrime2(primeNum):\n",
    "            primeCount += 1\n",
    "\n",
    "    return primeNum"
   ]
  },
  {
   "cell_type": "code",
   "execution_count": 699,
   "metadata": {},
   "outputs": [],
   "source": [
    "def getPrime3(nth):\n",
    "\n",
    "    primeCount = 0\n",
    "    primeNum = 1\n",
    "\n",
    "    while primeCount < nth:\n",
    "        primeNum += 1\n",
    "        if isPrime3(primeNum):\n",
    "            primeCount += 1\n",
    "\n",
    "    return primeNum"
   ]
  },
  {
   "cell_type": "code",
   "execution_count": 700,
   "metadata": {},
   "outputs": [
    {
     "name": "stdout",
     "output_type": "stream",
     "text": [
      "getPrime: 104743\n",
      "Time taken: 17313.3108 ms\n"
     ]
    }
   ],
   "source": [
    "with Timer(name=\"Time taken\", text=\"{name}: {milliseconds:.4f} ms\"):\n",
    "    print (f\"getPrime: {getPrime(10001)}\")"
   ]
  },
  {
   "cell_type": "code",
   "execution_count": 708,
   "metadata": {},
   "outputs": [
    {
     "name": "stdout",
     "output_type": "stream",
     "text": [
      "getPrime2: 104743\n",
      "Time taken: 79.6324 ms\n"
     ]
    }
   ],
   "source": [
    "with Timer(name=\"Time taken\", text=\"{name}: {milliseconds:.4f} ms\"):\n",
    "    print (f\"getPrime2: {getPrime2(10001)}\")"
   ]
  },
  {
   "cell_type": "code",
   "execution_count": 707,
   "metadata": {},
   "outputs": [
    {
     "name": "stdout",
     "output_type": "stream",
     "text": [
      "getPrime3: 104743\n",
      "Time taken: 54.2020 ms\n"
     ]
    }
   ],
   "source": [
    "with Timer(name=\"Time taken\", text=\"{name}: {milliseconds:.4f} ms\"):\n",
    "    print (f\"getPrime3: {getPrime3(10001)}\")\n"
   ]
  }
 ],
 "metadata": {
  "kernelspec": {
   "display_name": "DEMO-CODING-PYTHON",
   "language": "python",
   "name": "python3"
  },
  "language_info": {
   "codemirror_mode": {
    "name": "ipython",
    "version": 3
   },
   "file_extension": ".py",
   "mimetype": "text/x-python",
   "name": "python",
   "nbconvert_exporter": "python",
   "pygments_lexer": "ipython3",
   "version": "3.11.10"
  }
 },
 "nbformat": 4,
 "nbformat_minor": 2
}
