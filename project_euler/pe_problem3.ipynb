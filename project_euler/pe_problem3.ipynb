{
 "cells": [
  {
   "cell_type": "markdown",
   "metadata": {},
   "source": [
    "Project Euler - Problem 3\n",
    "https://projecteuler.net/problem=3\n",
    "\n",
    "The prime factors of 13195 are 5, 7, 13 and 29.\n",
    "What is the largest prime factor of the number 600851475143?"
   ]
  },
  {
   "cell_type": "code",
   "execution_count": 1,
   "metadata": {},
   "outputs": [],
   "source": [
    "import math\n",
    "from codetiming import Timer"
   ]
  },
  {
   "cell_type": "code",
   "execution_count": 2,
   "metadata": {},
   "outputs": [],
   "source": [
    "def isPrime1(n, loops):\n",
    "    # Check n is a multiple of any integer between 2 and n/2\n",
    "    # Time Complexity: O(n/2)\n",
    "    if n <= 1: return False\n",
    "    if n <= 3: return True\n",
    "    if (n % 2 == 0 or n % 3 == 0) : return False\n",
    "\n",
    "    num = round(n/2) + 1\n",
    "    for i in range(4, num):\n",
    "        loops[0] += 1\n",
    "        if n % i == 0:\n",
    "            return False\n",
    "    return True"
   ]
  },
  {
   "cell_type": "code",
   "execution_count": 3,
   "metadata": {},
   "outputs": [],
   "source": [
    "def isPrime2(n, loops):\n",
    "    # Each number has at least one prime factor less than or equal to square root of itself\n",
    "    # This can be proven using the counter statement:\n",
    "    #   Consider n = a * b\n",
    "    #   If a > sqrt(n) and b > sqrt(n) then a * b > sqrt(n) * sqrt(n) = n which contradicts n = a * b\n",
    "    # Check whether n is multiple of any integer between 2 and sqrt(n).\n",
    "    # Time Complexity: O(sqrt(n)\n",
    "    if n <= 1: return False\n",
    "    if n <= 3: return True\n",
    "    if (n % 2 == 0 or n % 3 == 0) : return False\n",
    "\n",
    "    i = 5\n",
    "    while i * i <= n:\n",
    "        loops[0] += 1\n",
    "        if n % i == 0 or n % (i + 2) == 0:\n",
    "            return False\n",
    "        i += 6\n",
    "\n",
    "    return True"
   ]
  },
  {
   "cell_type": "code",
   "execution_count": 4,
   "metadata": {},
   "outputs": [
    {
     "name": "stdout",
     "output_type": "stream",
     "text": [
      "Time taken: 8.2326 ms\n",
      "isPrime1 534851 = True using 267423 loops\n"
     ]
    }
   ],
   "source": [
    "# test isPrime1 using the prime no 534851 and count the number of loops\n",
    "n = 534851\n",
    "loops = [0]\n",
    "loops[0] = 0\n",
    "loops[0] = 0\n",
    "with Timer(name=\"Time taken\", text=\"{name}: {milliseconds:.4f} ms\"):\n",
    "    p = isPrime1(n, loops)\n",
    "print (f\"isPrime1 {n} = {p} using {loops[0]} loops\")"
   ]
  },
  {
   "cell_type": "code",
   "execution_count": 5,
   "metadata": {},
   "outputs": [
    {
     "name": "stdout",
     "output_type": "stream",
     "text": [
      "Time taken: 0.0115 ms\n",
      "isPrime2 534851 = True using 122 loops\n"
     ]
    }
   ],
   "source": [
    "# test isPrime2 using the prime no 534851 and count the number of loops\n",
    "n = 534851\n",
    "loops = [0]\n",
    "loops[0] = 0\n",
    "\n",
    "with Timer(name=\"Time taken\", text=\"{name}: {milliseconds:.4f} ms\"):\n",
    "    p = isPrime2(n, loops)\n",
    "print (f\"isPrime2 {n} = {p} using {loops[0]} loops\")"
   ]
  },
  {
   "cell_type": "code",
   "execution_count": 6,
   "metadata": {},
   "outputs": [
    {
     "name": "stdout",
     "output_type": "stream",
     "text": [
      "Time taken: 26.4255 ms\n",
      "largest prime factor for 600851475143 = 6857 using 771919 loops\n"
     ]
    }
   ],
   "source": [
    "def largestPrimeFactor1_isPrime1(n, loops):\n",
    "    # Find the largest prime factor\n",
    "    # Instead of checking till n, we can check till √n because a larger factor of n must be a multiple of smaller factor that has been already checked.\n",
    "    p = 0\n",
    "    num = round(math.sqrt(n))\n",
    "    for i in range(num, 2, -1):\n",
    "        loops[0] += 1\n",
    "        if n % i == 0:\n",
    "            if (isPrime1(i, loops)):\n",
    "                p = i\n",
    "                break\n",
    "    return p\n",
    "\n",
    "n = 600851475143\n",
    "loops[0] = 0\n",
    "with Timer(name=\"Time taken\", text=\"{name}: {milliseconds:.4f} ms\"):\n",
    "    p = largestPrimeFactor1_isPrime1(n, loops)\n",
    "print (f\"largest prime factor for {n} = {p} using {loops[0]} loops\")"
   ]
  },
  {
   "cell_type": "code",
   "execution_count": 7,
   "metadata": {},
   "outputs": [
    {
     "name": "stdout",
     "output_type": "stream",
     "text": [
      "Time taken: 26.7742 ms\n",
      "largest prime factor for 600851475143 = 6857 using 768339 loops\n"
     ]
    }
   ],
   "source": [
    "def largestPrimeFactor1_isPrime2(n, loops):\n",
    "    # Find the largest prime factor\n",
    "    # Slight optimisation using isPrime2\n",
    "    p = 0\n",
    "    num = round(math.sqrt(n))\n",
    "    for i in range(num, 2, -1):\n",
    "        loops[0] += 1\n",
    "        if n % i == 0:\n",
    "            if (isPrime2(i, loops)):\n",
    "                p = i\n",
    "                break\n",
    "    return p\n",
    "\n",
    "n = 600851475143\n",
    "loops[0] = 0\n",
    "with Timer(name=\"Time taken\", text=\"{name}: {milliseconds:.4f} ms\"):\n",
    "    p = largestPrimeFactor1_isPrime2(n, loops)\n",
    "print (f\"largest prime factor for {n} = {p} using {loops[0]} loops\")"
   ]
  },
  {
   "cell_type": "code",
   "execution_count": 8,
   "metadata": {},
   "outputs": [
    {
     "name": "stdout",
     "output_type": "stream",
     "text": [
      "Time taken: 15.4005 ms\n",
      "largest prime factor for 600851475143 = 6857 using 3629 loops\n"
     ]
    }
   ],
   "source": [
    "def largestPrimeFactor2_isPrime1(n, loops):\n",
    "    # Find the largest prime factor\n",
    "    # Use isPrime1 and optimise using list comprehension\n",
    "\n",
    "    checked = []\n",
    "    p = 0\n",
    "    num = int(round(math.sqrt(n)))\n",
    "    i = 0\n",
    "    try:\n",
    "        # Further optimise using list comprehension\n",
    "        # “IF” statement: [ EXPR for VAR in SEQUENCE if CONDITION ]\n",
    "        # [ on_true if expression else on_false for VAR in SEQUENCE ]\n",
    "        checked = [1/0 if isPrime1(p := i, loops) else 1/1 for i in range(num, 2, -1) if n % i == 0]\n",
    "    except:\n",
    "        pass\n",
    "\n",
    "    loops[0] = loops[0] + len(checked)\n",
    "\n",
    "    return p\n",
    "\n",
    "n = 600851475143\n",
    "loops[0] = 0\n",
    "with Timer(name=\"Time taken\", text=\"{name}: {milliseconds:.4f} ms\"):\n",
    "    p = largestPrimeFactor2_isPrime1(n, loops)\n",
    "print (f\"largest prime factor for {n} = {p} using {loops[0]} loops\")"
   ]
  },
  {
   "cell_type": "code",
   "execution_count": 9,
   "metadata": {},
   "outputs": [
    {
     "name": "stdout",
     "output_type": "stream",
     "text": [
      "Time taken: 15.9995 ms\n",
      "largest prime factor for 600851475143 = 6857 using 49 loops\n"
     ]
    }
   ],
   "source": [
    "def largestPrimeFactor2_isPrime2(n, loops):\n",
    "    # Find the largest prime factor\n",
    "    # optimise using isPrime2 and further optimise using list comprehension \n",
    "    # ** this is the most optimised approach **\n",
    "    checked = []\n",
    "    p = 0\n",
    "    num = int(round(math.sqrt(n)))\n",
    "    i = 0\n",
    "    try:\n",
    "        # Further optimise using comprehension\n",
    "        # “IF” statement: [ EXPR for VAR in SEQUENCE if CONDITION ]\n",
    "        # [ on_true if expression else on_false for VAR in SEQUENCE ]\n",
    "        checked = [1/0 if isPrime2(p := i, loops) else 1/1 for i in range(num, 2, -1) if n % i == 0]\n",
    "    except:\n",
    "        pass\n",
    "\n",
    "    loops[0] = loops[0] + len(checked)\n",
    "\n",
    "    return p\n",
    "\n",
    "n = 600851475143\n",
    "loops[0] = 0\n",
    "with Timer(name=\"Time taken\", text=\"{name}: {milliseconds:.4f} ms\"):\n",
    "    p = largestPrimeFactor2_isPrime2(n, loops)\n",
    "print (f\"largest prime factor for {n} = {p} using {loops[0]} loops\")"
   ]
  }
 ],
 "metadata": {
  "kernelspec": {
   "display_name": "git_python",
   "language": "python",
   "name": "python3"
  },
  "language_info": {
   "codemirror_mode": {
    "name": "ipython",
    "version": 3
   },
   "file_extension": ".py",
   "mimetype": "text/x-python",
   "name": "python",
   "nbconvert_exporter": "python",
   "pygments_lexer": "ipython3",
   "version": "3.12.9"
  }
 },
 "nbformat": 4,
 "nbformat_minor": 2
}
