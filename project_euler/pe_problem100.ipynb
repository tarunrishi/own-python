{
 "cells": [
  {
   "cell_type": "markdown",
   "metadata": {},
   "source": [
    "Project Euler - Problem 100\n",
    "https://projecteuler.net/problem=100 \n",
    "\n",
    "5\n"
   ]
  },
  {
   "cell_type": "code",
   "execution_count": null,
   "metadata": {},
   "outputs": [
    {
     "name": "stdout",
     "output_type": "stream",
     "text": [
      "Number of blue discs: 756872327473\n"
     ]
    }
   ],
   "source": [
    "def blueDiscs(limit):\n",
    "    blue, total = 85, 120\n",
    "    while total < limit:\n",
    "        blue, total = 3 * blue + 2 * total - 2, 4 * blue + 3 * total - 3\n",
    "    \n",
    "    return blue\n",
    "\n",
    "limit = 10**12\n",
    "result = blueDiscs(limit)\n",
    "print(\"Number of blue discs:\", result)"
   ]
  }
 ],
 "metadata": {
  "kernelspec": {
   "display_name": "DEMO-CODING-PYTHON",
   "language": "python",
   "name": "python3"
  },
  "language_info": {
   "codemirror_mode": {
    "name": "ipython",
    "version": 3
   },
   "file_extension": ".py",
   "mimetype": "text/x-python",
   "name": "python",
   "nbconvert_exporter": "python",
   "pygments_lexer": "ipython3",
   "version": "3.11.10"
  }
 },
 "nbformat": 4,
 "nbformat_minor": 2
}
